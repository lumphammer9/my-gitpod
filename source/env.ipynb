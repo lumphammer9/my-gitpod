{
 "cells": [
  {
   "cell_type": "markdown",
   "metadata": {},
   "source": [
    "# Use this notebood to install python dependencies for the other robot framework notebooks\n",
    "\n",
    "When starting a jupyter robot session, run this first to set up the environment.  (This is performance art until I can figure out how to set this in a config file.)\n",
    "\n",
    "-Run the cells in this notebook\n",
    "-Open the RW notebook you want to run\n",
    "-Restart the RW notebook kernel\n",
    "\n",
    "Do this with the !pip magic, example below:\n",
    "```\n",
    "!pip install logging_tree\n",
    "```"
   ]
  },
  {
   "cell_type": "code",
   "execution_count": 2,
   "metadata": {},
   "outputs": [
    {
     "name": "stdout",
     "output_type": "stream",
     "text": [
      "Collecting ruamel.yaml\n",
      "\u001b[?25l  Downloading https://files.pythonhosted.org/packages/c7/75/729b63cd0de2316c8bb789ff2c557d9732a5aeb900c5539ae74db41ba562/ruamel.yaml-0.17.17-py3-none-any.whl (109kB)\n",
      "\u001b[K     |████████████████████████████████| 112kB 3.6MB/s eta 0:00:01\n",
      "\u001b[?25hCollecting ruamel.yaml.clib>=0.1.2; platform_python_implementation == \"CPython\" and python_version < \"3.10\" (from ruamel.yaml)\n",
      "\u001b[?25l  Downloading https://files.pythonhosted.org/packages/50/a2/6ba867eb0fad21a3360c11c6b64f004a40f82753ab2d305806e0c2398e04/ruamel.yaml.clib-0.2.6-cp36-cp36m-macosx_10_9_x86_64.whl (139kB)\n",
      "\u001b[K     |████████████████████████████████| 143kB 17.1MB/s eta 0:00:01\n",
      "\u001b[?25hInstalling collected packages: ruamel.yaml.clib, ruamel.yaml\n",
      "Successfully installed ruamel.yaml-0.17.17 ruamel.yaml.clib-0.2.6\n"
     ]
    }
   ],
   "source": [
    "!pip install ruamel.yaml"
   ]
  },
  {
   "cell_type": "code",
   "execution_count": 6,
   "metadata": {},
   "outputs": [
    {
     "name": "stdout",
     "output_type": "stream",
     "text": [
      "Collecting logging_tree\n",
      "  Downloading https://files.pythonhosted.org/packages/46/d0/abbd5ba6e41e60922c8004c2e2ec9f6c07bfe662562f63d1b325491a14da/logging_tree-1.9-py2.py3-none-any.whl\n",
      "Installing collected packages: logging-tree\n",
      "Successfully installed logging-tree-1.9\n"
     ]
    }
   ],
   "source": [
    "!pip install logging_tree"
   ]
  },
  {
   "cell_type": "code",
   "execution_count": 1,
   "metadata": {},
   "outputs": [],
   "source": [
    "import sys\n",
    "sys.path.append('.')\n",
    "sys.path.append('./robot_tests')\n",
    "sys.path.append('./robot_tests/project-468-keywords')"
   ]
  },
  {
   "cell_type": "code",
   "execution_count": 2,
   "metadata": {},
   "outputs": [
    {
     "name": "stdout",
     "output_type": "stream",
     "text": [
      "Collecting deepmerge\n",
      "  Downloading https://files.pythonhosted.org/packages/41/4a/bc7b0bf4b357f192eb3d3a12aa42f34a5664cc3daf0f7fc4e0ddf133d6e8/deepmerge-0.3.0-py2.py3-none-any.whl\n",
      "Installing collected packages: deepmerge\n",
      "Successfully installed deepmerge-0.3.0\n"
     ]
    }
   ],
   "source": [
    "#Needed for Rest keyword library\n",
    "!pip install deepmerge"
   ]
  },
  {
   "cell_type": "code",
   "execution_count": 3,
   "metadata": {},
   "outputs": [
    {
     "name": "stdout",
     "output_type": "stream",
     "text": [
      "Requirement already satisfied: jsonschema in ./lib/python3.6/site-packages (3.0.2)\n",
      "Requirement already satisfied: six>=1.11.0 in ./lib/python3.6/site-packages (from jsonschema) (1.12.0)\n",
      "Requirement already satisfied: pyrsistent>=0.14.0 in ./lib/python3.6/site-packages (from jsonschema) (0.14.11)\n",
      "Requirement already satisfied: attrs>=17.4.0 in ./lib/python3.6/site-packages (from jsonschema) (19.1.0)\n",
      "Requirement already satisfied: setuptools in ./lib/python3.6/site-packages (from jsonschema) (41.0.1)\n"
     ]
    }
   ],
   "source": [
    "!pip install jsonschema"
   ]
  },
  {
   "cell_type": "code",
   "execution_count": null,
   "metadata": {},
   "outputs": [],
   "source": []
  }
 ],
 "metadata": {
  "kernelspec": {
   "display_name": "Python 3",
   "language": "python",
   "name": "python3"
  },
  "language_info": {
   "codemirror_mode": {
    "name": "ipython",
    "version": 3
   },
   "file_extension": ".py",
   "mimetype": "text/x-python",
   "name": "python",
   "nbconvert_exporter": "python",
   "pygments_lexer": "ipython3",
   "version": "3.6.9"
  }
 },
 "nbformat": 4,
 "nbformat_minor": 4
}
